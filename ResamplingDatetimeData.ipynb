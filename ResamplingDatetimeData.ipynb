{
 "cells": [
  {
   "cell_type": "markdown",
   "id": "d55297aa",
   "metadata": {},
   "source": [
    "# Resampling Datetime Data (Core)\n",
    "\n",
    "* Part 1: Load the data and create a datetime index\n",
    "\n",
    "* Part 2: Answer 2 Questions using visualizations and the correct frequency data"
   ]
  },
  {
   "cell_type": "code",
   "execution_count": 29,
   "id": "04504805",
   "metadata": {
    "scrolled": true
   },
   "outputs": [],
   "source": [
    "import pandas as pd\n",
    "import matplotlib.pyplot as plt\n",
    "import matplotlib.dates as mdates\n",
    "import matplotlib.ticker as mticks\n",
    "\n",
    "import missingno as miss\n",
    "\n",
    "import seaborn as sns\n",
    "import numpy as np\n",
    "\n",
    "#import tick customization tools\n",
    "import matplotlib.ticker as mticks\n",
    "import matplotlib.dates as mdates\n",
    "\n",
    "pd.set_option('display.float_format',lambda x:f\"{x:,.2f}\")"
   ]
  },
  {
   "cell_type": "markdown",
   "id": "770addf2",
   "metadata": {},
   "source": [
    "## Working with Time Series \n",
    "\n",
    "   * Weather data from London \n",
    "   * Source: Kaggle"
   ]
  },
  {
   "cell_type": "code",
   "execution_count": 30,
   "id": "74c2e9bc",
   "metadata": {
    "scrolled": true
   },
   "outputs": [
    {
     "data": {
      "text/html": [
       "<div>\n",
       "<style scoped>\n",
       "    .dataframe tbody tr th:only-of-type {\n",
       "        vertical-align: middle;\n",
       "    }\n",
       "\n",
       "    .dataframe tbody tr th {\n",
       "        vertical-align: top;\n",
       "    }\n",
       "\n",
       "    .dataframe thead th {\n",
       "        text-align: right;\n",
       "    }\n",
       "</style>\n",
       "<table border=\"1\" class=\"dataframe\">\n",
       "  <thead>\n",
       "    <tr style=\"text-align: right;\">\n",
       "      <th></th>\n",
       "      <th>date</th>\n",
       "      <th>cloud_cover</th>\n",
       "      <th>sunshine</th>\n",
       "      <th>global_radiation</th>\n",
       "      <th>max_temp</th>\n",
       "      <th>mean_temp</th>\n",
       "      <th>min_temp</th>\n",
       "      <th>precipitation</th>\n",
       "      <th>pressure</th>\n",
       "      <th>snow_depth</th>\n",
       "    </tr>\n",
       "  </thead>\n",
       "  <tbody>\n",
       "    <tr>\n",
       "      <th>0</th>\n",
       "      <td>19790101</td>\n",
       "      <td>2.00</td>\n",
       "      <td>7.00</td>\n",
       "      <td>52.00</td>\n",
       "      <td>2.30</td>\n",
       "      <td>-4.10</td>\n",
       "      <td>-7.50</td>\n",
       "      <td>0.40</td>\n",
       "      <td>101,900.00</td>\n",
       "      <td>9.00</td>\n",
       "    </tr>\n",
       "    <tr>\n",
       "      <th>1</th>\n",
       "      <td>19790102</td>\n",
       "      <td>6.00</td>\n",
       "      <td>1.70</td>\n",
       "      <td>27.00</td>\n",
       "      <td>1.60</td>\n",
       "      <td>-2.60</td>\n",
       "      <td>-7.50</td>\n",
       "      <td>0.00</td>\n",
       "      <td>102,530.00</td>\n",
       "      <td>8.00</td>\n",
       "    </tr>\n",
       "    <tr>\n",
       "      <th>2</th>\n",
       "      <td>19790103</td>\n",
       "      <td>5.00</td>\n",
       "      <td>0.00</td>\n",
       "      <td>13.00</td>\n",
       "      <td>1.30</td>\n",
       "      <td>-2.80</td>\n",
       "      <td>-7.20</td>\n",
       "      <td>0.00</td>\n",
       "      <td>102,050.00</td>\n",
       "      <td>4.00</td>\n",
       "    </tr>\n",
       "    <tr>\n",
       "      <th>3</th>\n",
       "      <td>19790104</td>\n",
       "      <td>8.00</td>\n",
       "      <td>0.00</td>\n",
       "      <td>13.00</td>\n",
       "      <td>-0.30</td>\n",
       "      <td>-2.60</td>\n",
       "      <td>-6.50</td>\n",
       "      <td>0.00</td>\n",
       "      <td>100,840.00</td>\n",
       "      <td>2.00</td>\n",
       "    </tr>\n",
       "    <tr>\n",
       "      <th>4</th>\n",
       "      <td>19790105</td>\n",
       "      <td>6.00</td>\n",
       "      <td>2.00</td>\n",
       "      <td>29.00</td>\n",
       "      <td>5.60</td>\n",
       "      <td>-0.80</td>\n",
       "      <td>-1.40</td>\n",
       "      <td>0.00</td>\n",
       "      <td>102,250.00</td>\n",
       "      <td>1.00</td>\n",
       "    </tr>\n",
       "  </tbody>\n",
       "</table>\n",
       "</div>"
      ],
      "text/plain": [
       "       date  cloud_cover  sunshine  global_radiation  max_temp  mean_temp  \\\n",
       "0  19790101         2.00      7.00             52.00      2.30      -4.10   \n",
       "1  19790102         6.00      1.70             27.00      1.60      -2.60   \n",
       "2  19790103         5.00      0.00             13.00      1.30      -2.80   \n",
       "3  19790104         8.00      0.00             13.00     -0.30      -2.60   \n",
       "4  19790105         6.00      2.00             29.00      5.60      -0.80   \n",
       "\n",
       "   min_temp  precipitation   pressure  snow_depth  \n",
       "0     -7.50           0.40 101,900.00        9.00  \n",
       "1     -7.50           0.00 102,530.00        8.00  \n",
       "2     -7.20           0.00 102,050.00        4.00  \n",
       "3     -6.50           0.00 100,840.00        2.00  \n",
       "4     -1.40           0.00 102,250.00        1.00  "
      ]
     },
     "execution_count": 30,
     "metadata": {},
     "output_type": "execute_result"
    }
   ],
   "source": [
    "# load the data\n",
    "weather_df = pd.read_csv('london_weather_MODIFIED.csv')\n",
    " \n",
    "weather_df.head()"
   ]
  },
  {
   "cell_type": "code",
   "execution_count": 31,
   "id": "46403c08",
   "metadata": {
    "scrolled": true
   },
   "outputs": [
    {
     "name": "stdout",
     "output_type": "stream",
     "text": [
      "<class 'pandas.core.frame.DataFrame'>\n",
      "RangeIndex: 15341 entries, 0 to 15340\n",
      "Data columns (total 10 columns):\n",
      " #   Column            Non-Null Count  Dtype  \n",
      "---  ------            --------------  -----  \n",
      " 0   date              15341 non-null  int64  \n",
      " 1   cloud_cover       14938 non-null  float64\n",
      " 2   sunshine          14957 non-null  float64\n",
      " 3   global_radiation  14939 non-null  float64\n",
      " 4   max_temp          14951 non-null  float64\n",
      " 5   mean_temp         14922 non-null  float64\n",
      " 6   min_temp          14955 non-null  float64\n",
      " 7   precipitation     14951 non-null  float64\n",
      " 8   pressure          14953 non-null  float64\n",
      " 9   snow_depth        13589 non-null  float64\n",
      "dtypes: float64(9), int64(1)\n",
      "memory usage: 1.2 MB\n"
     ]
    }
   ],
   "source": [
    "weather_df.info()"
   ]
  },
  {
   "cell_type": "markdown",
   "id": "5aac367f",
   "metadata": {},
   "source": [
    "## Preparing the Datetime Index"
   ]
  },
  {
   "cell_type": "code",
   "execution_count": 32,
   "id": "7a833c84",
   "metadata": {
    "scrolled": true
   },
   "outputs": [
    {
     "name": "stdout",
     "output_type": "stream",
     "text": [
      "datetime64[ns]\n"
     ]
    },
    {
     "data": {
      "text/plain": [
       "0   1970-01-01 00:00:00.019790101\n",
       "1   1970-01-01 00:00:00.019790102\n",
       "2   1970-01-01 00:00:00.019790103\n",
       "3   1970-01-01 00:00:00.019790104\n",
       "4   1970-01-01 00:00:00.019790105\n",
       "Name: datetime, dtype: datetime64[ns]"
      ]
     },
     "execution_count": 32,
     "metadata": {},
     "output_type": "execute_result"
    }
   ],
   "source": [
    "#Add a datetime column based on the string in the \"date\" column\n",
    "#weather_df['datetime'] = pd.to_datetime(weather_df['date'])\n",
    "#weather_df.info()\n",
    "#weather_df.head(3)\n",
    "\n",
    "# convert column to new column of datetime objects\n",
    "weather_df['datetime'] = pd.to_datetime(weather_df['date'])\n",
    "\n",
    "# check\n",
    "print(weather_df['datetime'].dtype)\n",
    "weather_df['datetime'].head()"
   ]
  },
  {
   "cell_type": "code",
   "execution_count": 33,
   "id": "064452a8",
   "metadata": {
    "scrolled": true
   },
   "outputs": [],
   "source": [
    "## Investigate the date format\n",
    "#weather_df.loc[0,'date']"
   ]
  },
  {
   "cell_type": "code",
   "execution_count": 34,
   "id": "d2874b4c",
   "metadata": {
    "scrolled": true
   },
   "outputs": [],
   "source": [
    "#weather_df.loc[0,'datetime']"
   ]
  },
  {
   "cell_type": "code",
   "execution_count": 35,
   "id": "ba04a5c7",
   "metadata": {
    "scrolled": true
   },
   "outputs": [],
   "source": [
    "#weather_df['datetime'].head"
   ]
  },
  {
   "cell_type": "code",
   "execution_count": 36,
   "id": "44a4b0fe",
   "metadata": {
    "scrolled": true
   },
   "outputs": [],
   "source": [
    "## Set the date format\n",
    "#fmt = '%Y/%m/%d'"
   ]
  },
  {
   "cell_type": "code",
   "execution_count": 37,
   "id": "5a7cf39e",
   "metadata": {
    "scrolled": true
   },
   "outputs": [
    {
     "name": "stdout",
     "output_type": "stream",
     "text": [
      "datetime64[ns]\n"
     ]
    },
    {
     "data": {
      "text/plain": [
       "0   1979-01-01\n",
       "1   1979-01-02\n",
       "2   1979-01-03\n",
       "3   1979-01-04\n",
       "4   1979-01-05\n",
       "Name: datetime, dtype: datetime64[ns]"
      ]
     },
     "execution_count": 37,
     "metadata": {},
     "output_type": "execute_result"
    }
   ],
   "source": [
    "# correct the formatting\n",
    "weather_df['datetime'] = pd.to_datetime(weather_df['date'], format='%Y%m%d')\n",
    "\n",
    "# check\n",
    "print(weather_df['datetime'].dtype)\n",
    "weather_df['datetime'].head()"
   ]
  },
  {
   "cell_type": "code",
   "execution_count": 38,
   "id": "661572a0",
   "metadata": {
    "scrolled": false
   },
   "outputs": [],
   "source": [
    "# drop date column\n",
    "weather_df = weather_df.drop(columns = ['date'])"
   ]
  },
  {
   "cell_type": "code",
   "execution_count": 39,
   "id": "44b56b3b",
   "metadata": {
    "scrolled": true
   },
   "outputs": [
    {
     "name": "stdout",
     "output_type": "stream",
     "text": [
      "<class 'pandas.core.frame.DataFrame'>\n",
      "RangeIndex: 15341 entries, 0 to 15340\n",
      "Data columns (total 10 columns):\n",
      " #   Column            Non-Null Count  Dtype         \n",
      "---  ------            --------------  -----         \n",
      " 0   cloud_cover       14938 non-null  float64       \n",
      " 1   sunshine          14957 non-null  float64       \n",
      " 2   global_radiation  14939 non-null  float64       \n",
      " 3   max_temp          14951 non-null  float64       \n",
      " 4   mean_temp         14922 non-null  float64       \n",
      " 5   min_temp          14955 non-null  float64       \n",
      " 6   precipitation     14951 non-null  float64       \n",
      " 7   pressure          14953 non-null  float64       \n",
      " 8   snow_depth        13589 non-null  float64       \n",
      " 9   datetime          15341 non-null  datetime64[ns]\n",
      "dtypes: datetime64[ns](1), float64(9)\n",
      "memory usage: 1.2 MB\n"
     ]
    }
   ],
   "source": [
    "weather_df.info()"
   ]
  },
  {
   "cell_type": "markdown",
   "id": "ccba244b",
   "metadata": {},
   "source": [
    "## Setting Index"
   ]
  },
  {
   "cell_type": "code",
   "execution_count": 40,
   "id": "5c59a709",
   "metadata": {
    "scrolled": false
   },
   "outputs": [
    {
     "data": {
      "text/html": [
       "<div>\n",
       "<style scoped>\n",
       "    .dataframe tbody tr th:only-of-type {\n",
       "        vertical-align: middle;\n",
       "    }\n",
       "\n",
       "    .dataframe tbody tr th {\n",
       "        vertical-align: top;\n",
       "    }\n",
       "\n",
       "    .dataframe thead th {\n",
       "        text-align: right;\n",
       "    }\n",
       "</style>\n",
       "<table border=\"1\" class=\"dataframe\">\n",
       "  <thead>\n",
       "    <tr style=\"text-align: right;\">\n",
       "      <th></th>\n",
       "      <th>cloud_cover</th>\n",
       "      <th>sunshine</th>\n",
       "      <th>global_radiation</th>\n",
       "      <th>max_temp</th>\n",
       "      <th>mean_temp</th>\n",
       "      <th>min_temp</th>\n",
       "      <th>precipitation</th>\n",
       "      <th>pressure</th>\n",
       "      <th>snow_depth</th>\n",
       "    </tr>\n",
       "    <tr>\n",
       "      <th>datetime</th>\n",
       "      <th></th>\n",
       "      <th></th>\n",
       "      <th></th>\n",
       "      <th></th>\n",
       "      <th></th>\n",
       "      <th></th>\n",
       "      <th></th>\n",
       "      <th></th>\n",
       "      <th></th>\n",
       "    </tr>\n",
       "  </thead>\n",
       "  <tbody>\n",
       "    <tr>\n",
       "      <th>1979-01-01</th>\n",
       "      <td>2.00</td>\n",
       "      <td>7.00</td>\n",
       "      <td>52.00</td>\n",
       "      <td>2.30</td>\n",
       "      <td>-4.10</td>\n",
       "      <td>-7.50</td>\n",
       "      <td>0.40</td>\n",
       "      <td>101,900.00</td>\n",
       "      <td>9.00</td>\n",
       "    </tr>\n",
       "    <tr>\n",
       "      <th>1979-01-02</th>\n",
       "      <td>6.00</td>\n",
       "      <td>1.70</td>\n",
       "      <td>27.00</td>\n",
       "      <td>1.60</td>\n",
       "      <td>-2.60</td>\n",
       "      <td>-7.50</td>\n",
       "      <td>0.00</td>\n",
       "      <td>102,530.00</td>\n",
       "      <td>8.00</td>\n",
       "    </tr>\n",
       "    <tr>\n",
       "      <th>1979-01-03</th>\n",
       "      <td>5.00</td>\n",
       "      <td>0.00</td>\n",
       "      <td>13.00</td>\n",
       "      <td>1.30</td>\n",
       "      <td>-2.80</td>\n",
       "      <td>-7.20</td>\n",
       "      <td>0.00</td>\n",
       "      <td>102,050.00</td>\n",
       "      <td>4.00</td>\n",
       "    </tr>\n",
       "    <tr>\n",
       "      <th>1979-01-04</th>\n",
       "      <td>8.00</td>\n",
       "      <td>0.00</td>\n",
       "      <td>13.00</td>\n",
       "      <td>-0.30</td>\n",
       "      <td>-2.60</td>\n",
       "      <td>-6.50</td>\n",
       "      <td>0.00</td>\n",
       "      <td>100,840.00</td>\n",
       "      <td>2.00</td>\n",
       "    </tr>\n",
       "    <tr>\n",
       "      <th>1979-01-05</th>\n",
       "      <td>6.00</td>\n",
       "      <td>2.00</td>\n",
       "      <td>29.00</td>\n",
       "      <td>5.60</td>\n",
       "      <td>-0.80</td>\n",
       "      <td>-1.40</td>\n",
       "      <td>0.00</td>\n",
       "      <td>102,250.00</td>\n",
       "      <td>1.00</td>\n",
       "    </tr>\n",
       "    <tr>\n",
       "      <th>...</th>\n",
       "      <td>...</td>\n",
       "      <td>...</td>\n",
       "      <td>...</td>\n",
       "      <td>...</td>\n",
       "      <td>...</td>\n",
       "      <td>...</td>\n",
       "      <td>...</td>\n",
       "      <td>...</td>\n",
       "      <td>...</td>\n",
       "    </tr>\n",
       "    <tr>\n",
       "      <th>2020-12-27</th>\n",
       "      <td>1.00</td>\n",
       "      <td>0.90</td>\n",
       "      <td>32.00</td>\n",
       "      <td>7.50</td>\n",
       "      <td>7.50</td>\n",
       "      <td>7.60</td>\n",
       "      <td>2.00</td>\n",
       "      <td>98,000.00</td>\n",
       "      <td>NaN</td>\n",
       "    </tr>\n",
       "    <tr>\n",
       "      <th>2020-12-28</th>\n",
       "      <td>7.00</td>\n",
       "      <td>3.70</td>\n",
       "      <td>38.00</td>\n",
       "      <td>3.60</td>\n",
       "      <td>1.10</td>\n",
       "      <td>-1.30</td>\n",
       "      <td>0.20</td>\n",
       "      <td>97,370.00</td>\n",
       "      <td>NaN</td>\n",
       "    </tr>\n",
       "    <tr>\n",
       "      <th>2020-12-29</th>\n",
       "      <td>7.00</td>\n",
       "      <td>0.00</td>\n",
       "      <td>21.00</td>\n",
       "      <td>4.10</td>\n",
       "      <td>2.60</td>\n",
       "      <td>1.10</td>\n",
       "      <td>0.00</td>\n",
       "      <td>98,830.00</td>\n",
       "      <td>NaN</td>\n",
       "    </tr>\n",
       "    <tr>\n",
       "      <th>2020-12-30</th>\n",
       "      <td>6.00</td>\n",
       "      <td>0.40</td>\n",
       "      <td>22.00</td>\n",
       "      <td>5.60</td>\n",
       "      <td>2.70</td>\n",
       "      <td>-0.10</td>\n",
       "      <td>0.00</td>\n",
       "      <td>100,200.00</td>\n",
       "      <td>NaN</td>\n",
       "    </tr>\n",
       "    <tr>\n",
       "      <th>2020-12-31</th>\n",
       "      <td>7.00</td>\n",
       "      <td>1.30</td>\n",
       "      <td>34.00</td>\n",
       "      <td>1.50</td>\n",
       "      <td>-0.80</td>\n",
       "      <td>-3.10</td>\n",
       "      <td>0.00</td>\n",
       "      <td>100,500.00</td>\n",
       "      <td>NaN</td>\n",
       "    </tr>\n",
       "  </tbody>\n",
       "</table>\n",
       "<p>15341 rows × 9 columns</p>\n",
       "</div>"
      ],
      "text/plain": [
       "            cloud_cover  sunshine  global_radiation  max_temp  mean_temp  \\\n",
       "datetime                                                                   \n",
       "1979-01-01         2.00      7.00             52.00      2.30      -4.10   \n",
       "1979-01-02         6.00      1.70             27.00      1.60      -2.60   \n",
       "1979-01-03         5.00      0.00             13.00      1.30      -2.80   \n",
       "1979-01-04         8.00      0.00             13.00     -0.30      -2.60   \n",
       "1979-01-05         6.00      2.00             29.00      5.60      -0.80   \n",
       "...                 ...       ...               ...       ...        ...   \n",
       "2020-12-27         1.00      0.90             32.00      7.50       7.50   \n",
       "2020-12-28         7.00      3.70             38.00      3.60       1.10   \n",
       "2020-12-29         7.00      0.00             21.00      4.10       2.60   \n",
       "2020-12-30         6.00      0.40             22.00      5.60       2.70   \n",
       "2020-12-31         7.00      1.30             34.00      1.50      -0.80   \n",
       "\n",
       "            min_temp  precipitation   pressure  snow_depth  \n",
       "datetime                                                    \n",
       "1979-01-01     -7.50           0.40 101,900.00        9.00  \n",
       "1979-01-02     -7.50           0.00 102,530.00        8.00  \n",
       "1979-01-03     -7.20           0.00 102,050.00        4.00  \n",
       "1979-01-04     -6.50           0.00 100,840.00        2.00  \n",
       "1979-01-05     -1.40           0.00 102,250.00        1.00  \n",
       "...              ...            ...        ...         ...  \n",
       "2020-12-27      7.60           2.00  98,000.00         NaN  \n",
       "2020-12-28     -1.30           0.20  97,370.00         NaN  \n",
       "2020-12-29      1.10           0.00  98,830.00         NaN  \n",
       "2020-12-30     -0.10           0.00 100,200.00         NaN  \n",
       "2020-12-31     -3.10           0.00 100,500.00         NaN  \n",
       "\n",
       "[15341 rows x 9 columns]"
      ]
     },
     "execution_count": 40,
     "metadata": {},
     "output_type": "execute_result"
    }
   ],
   "source": [
    "weather_df = weather_df.set_index('datetime')\n",
    "weather_df"
   ]
  },
  {
   "cell_type": "code",
   "execution_count": 41,
   "id": "15954891",
   "metadata": {
    "scrolled": true
   },
   "outputs": [
    {
     "data": {
      "text/plain": [
       "DatetimeIndex(['1979-01-01', '1979-01-02', '1979-01-03', '1979-01-04',\n",
       "               '1979-01-05', '1979-01-06', '1979-01-07', '1979-01-08',\n",
       "               '1979-01-09', '1979-01-10',\n",
       "               ...\n",
       "               '2020-12-22', '2020-12-23', '2020-12-24', '2020-12-25',\n",
       "               '2020-12-26', '2020-12-27', '2020-12-28', '2020-12-29',\n",
       "               '2020-12-30', '2020-12-31'],\n",
       "              dtype='datetime64[ns]', name='datetime', length=15341, freq=None)"
      ]
     },
     "execution_count": 41,
     "metadata": {},
     "output_type": "execute_result"
    }
   ],
   "source": [
    "# check the index to confirm its datetime\n",
    "weather_df.index"
   ]
  },
  {
   "cell_type": "code",
   "execution_count": 42,
   "id": "ebc9dfc2",
   "metadata": {},
   "outputs": [
    {
     "data": {
      "text/plain": [
       "Index(['cloud_cover', 'sunshine', 'global_radiation', 'max_temp', 'mean_temp',\n",
       "       'min_temp', 'precipitation', 'pressure', 'snow_depth'],\n",
       "      dtype='object')"
      ]
     },
     "execution_count": 42,
     "metadata": {},
     "output_type": "execute_result"
    }
   ],
   "source": [
    "# check columns\n",
    "weather_df.columns"
   ]
  },
  {
   "cell_type": "markdown",
   "id": "decddc44",
   "metadata": {},
   "source": [
    "## Filtering data"
   ]
  },
  {
   "cell_type": "code",
   "execution_count": 43,
   "id": "0ab1e450",
   "metadata": {
    "scrolled": true
   },
   "outputs": [
    {
     "data": {
      "text/html": [
       "<div>\n",
       "<style scoped>\n",
       "    .dataframe tbody tr th:only-of-type {\n",
       "        vertical-align: middle;\n",
       "    }\n",
       "\n",
       "    .dataframe tbody tr th {\n",
       "        vertical-align: top;\n",
       "    }\n",
       "\n",
       "    .dataframe thead th {\n",
       "        text-align: right;\n",
       "    }\n",
       "</style>\n",
       "<table border=\"1\" class=\"dataframe\">\n",
       "  <thead>\n",
       "    <tr style=\"text-align: right;\">\n",
       "      <th></th>\n",
       "      <th>precipitation</th>\n",
       "      <th>mean_temp</th>\n",
       "      <th>min_temp</th>\n",
       "      <th>max_temp</th>\n",
       "      <th>snow_depth</th>\n",
       "    </tr>\n",
       "    <tr>\n",
       "      <th>datetime</th>\n",
       "      <th></th>\n",
       "      <th></th>\n",
       "      <th></th>\n",
       "      <th></th>\n",
       "      <th></th>\n",
       "    </tr>\n",
       "  </thead>\n",
       "  <tbody>\n",
       "    <tr>\n",
       "      <th>2000-01-01</th>\n",
       "      <td>0.00</td>\n",
       "      <td>7.00</td>\n",
       "      <td>4.90</td>\n",
       "      <td>10.80</td>\n",
       "      <td>0.00</td>\n",
       "    </tr>\n",
       "    <tr>\n",
       "      <th>2000-01-02</th>\n",
       "      <td>0.20</td>\n",
       "      <td>7.90</td>\n",
       "      <td>5.00</td>\n",
       "      <td>11.50</td>\n",
       "      <td>0.00</td>\n",
       "    </tr>\n",
       "    <tr>\n",
       "      <th>2000-01-03</th>\n",
       "      <td>6.00</td>\n",
       "      <td>9.40</td>\n",
       "      <td>7.20</td>\n",
       "      <td>9.50</td>\n",
       "      <td>0.00</td>\n",
       "    </tr>\n",
       "    <tr>\n",
       "      <th>2000-01-04</th>\n",
       "      <td>0.20</td>\n",
       "      <td>7.00</td>\n",
       "      <td>4.40</td>\n",
       "      <td>11.00</td>\n",
       "      <td>0.00</td>\n",
       "    </tr>\n",
       "    <tr>\n",
       "      <th>2000-01-05</th>\n",
       "      <td>0.80</td>\n",
       "      <td>6.40</td>\n",
       "      <td>1.90</td>\n",
       "      <td>10.80</td>\n",
       "      <td>0.00</td>\n",
       "    </tr>\n",
       "  </tbody>\n",
       "</table>\n",
       "</div>"
      ],
      "text/plain": [
       "            precipitation  mean_temp  min_temp  max_temp  snow_depth\n",
       "datetime                                                            \n",
       "2000-01-01           0.00       7.00      4.90     10.80        0.00\n",
       "2000-01-02           0.20       7.90      5.00     11.50        0.00\n",
       "2000-01-03           6.00       9.40      7.20      9.50        0.00\n",
       "2000-01-04           0.20       7.00      4.40     11.00        0.00\n",
       "2000-01-05           0.80       6.40      1.90     10.80        0.00"
      ]
     },
     "execution_count": 43,
     "metadata": {},
     "output_type": "execute_result"
    }
   ],
   "source": [
    "filtered_weather_df = weather_df.loc['2000':, ['precipitation', 'mean_temp', 'min_temp', \n",
    "                      'max_temp', 'snow_depth']]\n",
    "\n",
    "filtered_weather_df.head()\n",
    "#weather_df['precipitation'].head()"
   ]
  },
  {
   "cell_type": "code",
   "execution_count": 44,
   "id": "a97630bd",
   "metadata": {
    "scrolled": true
   },
   "outputs": [
    {
     "data": {
      "text/plain": [
       "precipitation     390\n",
       "mean_temp         419\n",
       "min_temp          386\n",
       "max_temp          390\n",
       "snow_depth       1752\n",
       "dtype: int64"
      ]
     },
     "execution_count": 44,
     "metadata": {},
     "output_type": "execute_result"
    }
   ],
   "source": [
    "#checking for missing values\n",
    "filtered_weather_df.isna().sum()"
   ]
  },
  {
   "cell_type": "code",
   "execution_count": 45,
   "id": "a509ac78",
   "metadata": {
    "scrolled": true
   },
   "outputs": [
    {
     "data": {
      "text/plain": [
       "390"
      ]
     },
     "execution_count": 45,
     "metadata": {},
     "output_type": "execute_result"
    }
   ],
   "source": [
    "filtered_weather_df['precipitation'] = pd.to_datetime(filtered_weather_df['precipitation'], errors='coerce')\n",
    "filtered_weather_df['precipitation'].isna().sum()"
   ]
  },
  {
   "cell_type": "code",
   "execution_count": 46,
   "id": "44d4c9b5",
   "metadata": {
    "scrolled": true
   },
   "outputs": [
    {
     "data": {
      "text/plain": [
       "precipitation    0\n",
       "mean_temp        0\n",
       "min_temp         0\n",
       "max_temp         0\n",
       "snow_depth       0\n",
       "dtype: int64"
      ]
     },
     "execution_count": 46,
     "metadata": {},
     "output_type": "execute_result"
    }
   ],
   "source": [
    "# imputing missing values using interpolate\n",
    "filtered_weather_df['mean_temp'] = filtered_weather_df['mean_temp'].interpolate()\n",
    "filtered_weather_df['min_temp'] = filtered_weather_df['min_temp'].interpolate()\n",
    "filtered_weather_df['max_temp'] = filtered_weather_df['max_temp'].interpolate()\n",
    "\n",
    "#imputing missing values using forwardfill since value is 0\n",
    "filtered_weather_df['snow_depth'] = filtered_weather_df['snow_depth'].fillna(method='ffill')\n",
    "filtered_weather_df['precipitation'] = filtered_weather_df['precipitation'].fillna(method='ffill')\n",
    "\n",
    "# check\n",
    "filtered_weather_df.isna().sum()"
   ]
  },
  {
   "cell_type": "markdown",
   "id": "d5557d38",
   "metadata": {},
   "source": [
    "## Resample the data as Monthyl frequency"
   ]
  },
  {
   "cell_type": "code",
   "execution_count": 47,
   "id": "01f45eab",
   "metadata": {},
   "outputs": [
    {
     "data": {
      "text/plain": [
       "datetime\n",
       "1979-01-01   0.40\n",
       "1979-01-02   0.00\n",
       "1979-01-03   0.00\n",
       "1979-01-04   0.00\n",
       "1979-01-05   0.00\n",
       "Name: precipitation, dtype: float64"
      ]
     },
     "execution_count": 47,
     "metadata": {},
     "output_type": "execute_result"
    }
   ],
   "source": [
    "# create series for precipitation only\n",
    "ts = weather_df['precipitation'].copy()\n",
    "ts.head()"
   ]
  },
  {
   "cell_type": "code",
   "execution_count": 48,
   "id": "6f76f144",
   "metadata": {},
   "outputs": [
    {
     "data": {
      "text/html": [
       "<div>\n",
       "<style scoped>\n",
       "    .dataframe tbody tr th:only-of-type {\n",
       "        vertical-align: middle;\n",
       "    }\n",
       "\n",
       "    .dataframe tbody tr th {\n",
       "        vertical-align: top;\n",
       "    }\n",
       "\n",
       "    .dataframe thead th {\n",
       "        text-align: right;\n",
       "    }\n",
       "</style>\n",
       "<table border=\"1\" class=\"dataframe\">\n",
       "  <thead>\n",
       "    <tr style=\"text-align: right;\">\n",
       "      <th></th>\n",
       "      <th>precipitation</th>\n",
       "    </tr>\n",
       "    <tr>\n",
       "      <th>datetime</th>\n",
       "      <th></th>\n",
       "    </tr>\n",
       "  </thead>\n",
       "  <tbody>\n",
       "    <tr>\n",
       "      <th>2000-01-01</th>\n",
       "      <td>0.00</td>\n",
       "    </tr>\n",
       "    <tr>\n",
       "      <th>2000-01-02</th>\n",
       "      <td>0.20</td>\n",
       "    </tr>\n",
       "    <tr>\n",
       "      <th>2000-01-03</th>\n",
       "      <td>6.00</td>\n",
       "    </tr>\n",
       "    <tr>\n",
       "      <th>2000-01-04</th>\n",
       "      <td>0.20</td>\n",
       "    </tr>\n",
       "    <tr>\n",
       "      <th>2000-01-05</th>\n",
       "      <td>0.80</td>\n",
       "    </tr>\n",
       "  </tbody>\n",
       "</table>\n",
       "</div>"
      ],
      "text/plain": [
       "            precipitation\n",
       "datetime                 \n",
       "2000-01-01           0.00\n",
       "2000-01-02           0.20\n",
       "2000-01-03           6.00\n",
       "2000-01-04           0.20\n",
       "2000-01-05           0.80"
      ]
     },
     "execution_count": 48,
     "metadata": {},
     "output_type": "execute_result"
    }
   ],
   "source": [
    "# limit series to years 2000-2010\n",
    "#ts = ts.loc['2000':'2010']\n",
    "\n",
    "# check\n",
    "#print(ts.index.min())\n",
    "#print(ts.index.max())\n",
    "\n",
    "prec = weather_df.loc['2000':'2010', ['precipitation']]\n",
    "\n",
    "prec.head()"
   ]
  },
  {
   "cell_type": "code",
   "execution_count": 49,
   "id": "b4adc93e",
   "metadata": {},
   "outputs": [
    {
     "data": {
      "text/html": [
       "<div>\n",
       "<style scoped>\n",
       "    .dataframe tbody tr th:only-of-type {\n",
       "        vertical-align: middle;\n",
       "    }\n",
       "\n",
       "    .dataframe tbody tr th {\n",
       "        vertical-align: top;\n",
       "    }\n",
       "\n",
       "    .dataframe thead th {\n",
       "        text-align: right;\n",
       "    }\n",
       "</style>\n",
       "<table border=\"1\" class=\"dataframe\">\n",
       "  <thead>\n",
       "    <tr style=\"text-align: right;\">\n",
       "      <th></th>\n",
       "      <th>precipitation</th>\n",
       "    </tr>\n",
       "    <tr>\n",
       "      <th>datetime</th>\n",
       "      <th></th>\n",
       "    </tr>\n",
       "  </thead>\n",
       "  <tbody>\n",
       "    <tr>\n",
       "      <th>2000-01-01</th>\n",
       "      <td>0.51</td>\n",
       "    </tr>\n",
       "    <tr>\n",
       "      <th>2000-02-01</th>\n",
       "      <td>2.22</td>\n",
       "    </tr>\n",
       "    <tr>\n",
       "      <th>2000-03-01</th>\n",
       "      <td>0.45</td>\n",
       "    </tr>\n",
       "    <tr>\n",
       "      <th>2000-04-01</th>\n",
       "      <td>2.56</td>\n",
       "    </tr>\n",
       "    <tr>\n",
       "      <th>2000-05-01</th>\n",
       "      <td>2.36</td>\n",
       "    </tr>\n",
       "  </tbody>\n",
       "</table>\n",
       "</div>"
      ],
      "text/plain": [
       "            precipitation\n",
       "datetime                 \n",
       "2000-01-01           0.51\n",
       "2000-02-01           2.22\n",
       "2000-03-01           0.45\n",
       "2000-04-01           2.56\n",
       "2000-05-01           2.36"
      ]
     },
     "execution_count": 49,
     "metadata": {},
     "output_type": "execute_result"
    }
   ],
   "source": [
    "# resample with monthly frequency; take mean of month\n",
    "prec = prec.resample(\"MS\").mean()\n",
    "\n",
    "# check\n",
    "prec.head()"
   ]
  },
  {
   "cell_type": "markdown",
   "id": "0bfc35d9",
   "metadata": {},
   "source": [
    "## Q1: What month had the most precipitation between 2000 through 2010?\n"
   ]
  },
  {
   "cell_type": "code",
   "execution_count": 50,
   "id": "872a1c2b",
   "metadata": {},
   "outputs": [
    {
     "name": "stdout",
     "output_type": "stream",
     "text": [
      "The most precipitation of 4.772413793103448 inches occured on November, 2009 which was a Sunday.\n"
     ]
    }
   ],
   "source": [
    "date = prec['precipitation'].idxmax()\n",
    "max_prec = prec['precipitation'].max()\n",
    "\n",
    "\n",
    "print(f\"The most precipitation of {max_prec} inches occured on {date.strftime('%B, %Y')} which was a {date.day_name()}.\")"
   ]
  },
  {
   "cell_type": "markdown",
   "id": "266ecad3",
   "metadata": {},
   "source": [
    "## Visualization"
   ]
  },
  {
   "cell_type": "code",
   "execution_count": 51,
   "id": "522a26ff",
   "metadata": {},
   "outputs": [
    {
     "data": {
      "text/html": [
       "<div>\n",
       "<style scoped>\n",
       "    .dataframe tbody tr th:only-of-type {\n",
       "        vertical-align: middle;\n",
       "    }\n",
       "\n",
       "    .dataframe tbody tr th {\n",
       "        vertical-align: top;\n",
       "    }\n",
       "\n",
       "    .dataframe thead th {\n",
       "        text-align: right;\n",
       "    }\n",
       "</style>\n",
       "<table border=\"1\" class=\"dataframe\">\n",
       "  <thead>\n",
       "    <tr style=\"text-align: right;\">\n",
       "      <th></th>\n",
       "      <th>precipitation</th>\n",
       "    </tr>\n",
       "    <tr>\n",
       "      <th>datetime</th>\n",
       "      <th></th>\n",
       "    </tr>\n",
       "  </thead>\n",
       "  <tbody>\n",
       "    <tr>\n",
       "      <th>2000-01-01</th>\n",
       "      <td>0.51</td>\n",
       "    </tr>\n",
       "    <tr>\n",
       "      <th>2000-02-01</th>\n",
       "      <td>2.22</td>\n",
       "    </tr>\n",
       "    <tr>\n",
       "      <th>2000-03-01</th>\n",
       "      <td>0.45</td>\n",
       "    </tr>\n",
       "    <tr>\n",
       "      <th>2000-04-01</th>\n",
       "      <td>2.56</td>\n",
       "    </tr>\n",
       "    <tr>\n",
       "      <th>2000-05-01</th>\n",
       "      <td>2.36</td>\n",
       "    </tr>\n",
       "    <tr>\n",
       "      <th>...</th>\n",
       "      <td>...</td>\n",
       "    </tr>\n",
       "    <tr>\n",
       "      <th>2010-08-01</th>\n",
       "      <td>2.99</td>\n",
       "    </tr>\n",
       "    <tr>\n",
       "      <th>2010-09-01</th>\n",
       "      <td>1.36</td>\n",
       "    </tr>\n",
       "    <tr>\n",
       "      <th>2010-10-01</th>\n",
       "      <td>2.10</td>\n",
       "    </tr>\n",
       "    <tr>\n",
       "      <th>2010-11-01</th>\n",
       "      <td>0.92</td>\n",
       "    </tr>\n",
       "    <tr>\n",
       "      <th>2010-12-01</th>\n",
       "      <td>0.71</td>\n",
       "    </tr>\n",
       "  </tbody>\n",
       "</table>\n",
       "<p>132 rows × 1 columns</p>\n",
       "</div>"
      ],
      "text/plain": [
       "            precipitation\n",
       "datetime                 \n",
       "2000-01-01           0.51\n",
       "2000-02-01           2.22\n",
       "2000-03-01           0.45\n",
       "2000-04-01           2.56\n",
       "2000-05-01           2.36\n",
       "...                   ...\n",
       "2010-08-01           2.99\n",
       "2010-09-01           1.36\n",
       "2010-10-01           2.10\n",
       "2010-11-01           0.92\n",
       "2010-12-01           0.71\n",
       "\n",
       "[132 rows x 1 columns]"
      ]
     },
     "execution_count": 51,
     "metadata": {},
     "output_type": "execute_result"
    }
   ],
   "source": [
    "plot_df = prec\n",
    "#plot_df = weather_df.loc['2000':'2010','precipitation']\n",
    "plot_df\n"
   ]
  },
  {
   "cell_type": "code",
   "execution_count": 52,
   "id": "df6b2a18",
   "metadata": {},
   "outputs": [
    {
     "data": {
      "image/png": "[encoded data removed]",
      "text/plain": [
       "<Figure size 1200x300 with 1 Axes>"
      ]
     },
     "metadata": {},
     "output_type": "display_data"
    }
   ],
   "source": [
    "\n",
    "## Plot the data\n",
    "ax = plot_df.plot(figsize=(12,3))\n",
    "ax.set(title='Precipitation for 2000-2010', ylabel='Inches')\n",
    "\n",
    "# customize major ticks \n",
    "major_loc =  mdates.YearLocator(1)\n",
    "major_fmt = mdates.DateFormatter(\"%Y\")\n",
    "\n",
    "ax.xaxis.set_major_locator(major_loc)\n",
    "ax.xaxis.set_major_formatter(major_fmt)\n",
    "\n",
    "\n",
    "# customize minor ticks\n",
    "minor_loc =  mdates.MonthLocator(interval=3)\n",
    "minor_fmt = mdates.DateFormatter(\"%b\")\n",
    "\n",
    "ax.xaxis.set_minor_locator(minor_loc)\n",
    "ax.xaxis.set_minor_formatter(minor_fmt)\n",
    "\n",
    "# add vertical line at max_precip_date\n",
    "ax.axvline(x = date, \n",
    "          color = 'r', \n",
    "          linestyle = '--',\n",
    "          label = f'Highest Month,\\n{date:%B %Y}')\n",
    "\n",
    "\n",
    "## Final xdate tweaks\n",
    "fig = ax.get_figure()\n",
    "fig.autofmt_xdate(which='major',rotation=90)\n",
    "\n",
    "#add legend\n",
    "\n",
    "ax.legend(loc = 'lower right',\n",
    "          bbox_to_anchor = (1.0, -.75),\n",
    "          prop = {'size': 11});"
   ]
  },
  {
   "cell_type": "markdown",
   "id": "3b87c31b",
   "metadata": {},
   "source": [
    "## Q2: Which year between 2000-2020 had the coolest average temperature?"
   ]
  },
  {
   "cell_type": "code",
   "execution_count": 53,
   "id": "c29e181c",
   "metadata": {
    "scrolled": true
   },
   "outputs": [
    {
     "data": {
      "text/html": [
       "<div>\n",
       "<style scoped>\n",
       "    .dataframe tbody tr th:only-of-type {\n",
       "        vertical-align: middle;\n",
       "    }\n",
       "\n",
       "    .dataframe tbody tr th {\n",
       "        vertical-align: top;\n",
       "    }\n",
       "\n",
       "    .dataframe thead th {\n",
       "        text-align: right;\n",
       "    }\n",
       "</style>\n",
       "<table border=\"1\" class=\"dataframe\">\n",
       "  <thead>\n",
       "    <tr style=\"text-align: right;\">\n",
       "      <th></th>\n",
       "      <th>mean_temp</th>\n",
       "      <th>min_temp</th>\n",
       "      <th>max_temp</th>\n",
       "    </tr>\n",
       "    <tr>\n",
       "      <th>datetime</th>\n",
       "      <th></th>\n",
       "      <th></th>\n",
       "      <th></th>\n",
       "    </tr>\n",
       "  </thead>\n",
       "  <tbody>\n",
       "    <tr>\n",
       "      <th>2000-01-01</th>\n",
       "      <td>7.00</td>\n",
       "      <td>4.90</td>\n",
       "      <td>10.80</td>\n",
       "    </tr>\n",
       "    <tr>\n",
       "      <th>2000-01-02</th>\n",
       "      <td>7.90</td>\n",
       "      <td>5.00</td>\n",
       "      <td>11.50</td>\n",
       "    </tr>\n",
       "    <tr>\n",
       "      <th>2000-01-03</th>\n",
       "      <td>9.40</td>\n",
       "      <td>7.20</td>\n",
       "      <td>9.50</td>\n",
       "    </tr>\n",
       "    <tr>\n",
       "      <th>2000-01-04</th>\n",
       "      <td>7.00</td>\n",
       "      <td>4.40</td>\n",
       "      <td>11.00</td>\n",
       "    </tr>\n",
       "    <tr>\n",
       "      <th>2000-01-05</th>\n",
       "      <td>6.40</td>\n",
       "      <td>1.90</td>\n",
       "      <td>10.80</td>\n",
       "    </tr>\n",
       "  </tbody>\n",
       "</table>\n",
       "</div>"
      ],
      "text/plain": [
       "            mean_temp  min_temp  max_temp\n",
       "datetime                                 \n",
       "2000-01-01       7.00      4.90     10.80\n",
       "2000-01-02       7.90      5.00     11.50\n",
       "2000-01-03       9.40      7.20      9.50\n",
       "2000-01-04       7.00      4.40     11.00\n",
       "2000-01-05       6.40      1.90     10.80"
      ]
     },
     "execution_count": 53,
     "metadata": {},
     "output_type": "execute_result"
    }
   ],
   "source": [
    "temp = weather_df.loc['2000':'2020', ['mean_temp', 'min_temp','max_temp']]\n",
    "\n",
    "temp.head()"
   ]
  },
  {
   "cell_type": "code",
   "execution_count": 54,
   "id": "16e2cdb6",
   "metadata": {},
   "outputs": [],
   "source": [
    "# Resample the data as yearly frequency\n",
    "#temps = temp.resample(\"M\").sum()\n",
    "#temps"
   ]
  },
  {
   "cell_type": "code",
   "execution_count": 56,
   "id": "1e0aa1c1",
   "metadata": {},
   "outputs": [],
   "source": [
    "#temp.isna().sum()"
   ]
  },
  {
   "cell_type": "code",
   "execution_count": 57,
   "id": "bc14039d",
   "metadata": {},
   "outputs": [
    {
     "data": {
      "text/plain": [
       "<bound method NDFrame.head of             mean_temp  min_temp  max_temp\n",
       "datetime                                 \n",
       "2000-12-31      11.53      7.97     15.11\n",
       "2001-12-31      11.31      7.64     14.97\n",
       "2002-12-31      12.01      8.35     15.73\n",
       "2003-12-31      12.23      7.99     16.49\n",
       "2004-12-31      11.87      8.21     15.51\n",
       "2005-12-31      11.88      8.03     15.73\n",
       "2006-12-31      12.39      8.52     16.17\n",
       "2007-12-31      12.06      8.22     15.94\n",
       "2008-12-31      11.17      7.45     15.03\n",
       "2009-12-31      11.72      7.72     15.65\n",
       "2010-12-31      10.65      6.76     14.49\n",
       "2011-12-31      12.47      8.43     16.52\n",
       "2012-12-31      11.32      7.38     15.25\n",
       "2013-12-31      11.20      7.40     14.99\n",
       "2014-12-31      12.61      8.61     16.57\n",
       "2015-12-31      12.09      8.14     16.00\n",
       "2016-12-31      11.89      7.92     15.87\n",
       "2017-12-31      12.24      8.35     16.08\n",
       "2018-12-31      12.44      8.28     16.62\n",
       "2019-12-31      12.23      7.94     16.49\n",
       "2020-12-31      12.72      8.71     16.81>"
      ]
     },
     "execution_count": 57,
     "metadata": {},
     "output_type": "execute_result"
    }
   ],
   "source": [
    "# Resample the data as yearly frequency\n",
    "temp_yearly = temp.resample(\"Y\").mean()\n",
    "temp_yearly.name = 'Resampled'\n",
    "temp_yearly.head"
   ]
  },
  {
   "cell_type": "code",
   "execution_count": 58,
   "id": "102b6bde",
   "metadata": {},
   "outputs": [
    {
     "name": "stdout",
     "output_type": "stream",
     "text": [
      "The coolest temperature of 6.764723032069972 degrees in average occured in 2010.\n"
     ]
    }
   ],
   "source": [
    "date_min_temp = temp_yearly['min_temp'].idxmin()\n",
    "min_temp = temp_yearly['min_temp'].min()\n",
    "\n",
    "print(f\"The coolest temperature of {min_temp} degrees in average occured in {date_min_temp.strftime('%Y')}.\")\n",
    "      #which was a {date_min_temp.day_name()}.\")\n"
   ]
  },
  {
   "cell_type": "code",
   "execution_count": 59,
   "id": "ed2b55f3",
   "metadata": {},
   "outputs": [
    {
     "data": {
      "text/plain": [
       "6.764723032069972"
      ]
     },
     "execution_count": 59,
     "metadata": {},
     "output_type": "execute_result"
    }
   ],
   "source": [
    "min_temp = temp_yearly['min_temp'].min()\n",
    "min_temp"
   ]
  },
  {
   "cell_type": "markdown",
   "id": "3320dbd4",
   "metadata": {},
   "source": [
    "## Visualization"
   ]
  },
  {
   "cell_type": "code",
   "execution_count": 60,
   "id": "c31a9bfb",
   "metadata": {},
   "outputs": [
    {
     "data": {
      "text/html": [
       "<div>\n",
       "<style scoped>\n",
       "    .dataframe tbody tr th:only-of-type {\n",
       "        vertical-align: middle;\n",
       "    }\n",
       "\n",
       "    .dataframe tbody tr th {\n",
       "        vertical-align: top;\n",
       "    }\n",
       "\n",
       "    .dataframe thead th {\n",
       "        text-align: right;\n",
       "    }\n",
       "</style>\n",
       "<table border=\"1\" class=\"dataframe\">\n",
       "  <thead>\n",
       "    <tr style=\"text-align: right;\">\n",
       "      <th></th>\n",
       "      <th>mean_temp</th>\n",
       "      <th>min_temp</th>\n",
       "      <th>max_temp</th>\n",
       "    </tr>\n",
       "    <tr>\n",
       "      <th>datetime</th>\n",
       "      <th></th>\n",
       "      <th></th>\n",
       "      <th></th>\n",
       "    </tr>\n",
       "  </thead>\n",
       "  <tbody>\n",
       "    <tr>\n",
       "      <th>2000-01-01</th>\n",
       "      <td>7.00</td>\n",
       "      <td>4.90</td>\n",
       "      <td>10.80</td>\n",
       "    </tr>\n",
       "    <tr>\n",
       "      <th>2000-01-02</th>\n",
       "      <td>7.90</td>\n",
       "      <td>5.00</td>\n",
       "      <td>11.50</td>\n",
       "    </tr>\n",
       "    <tr>\n",
       "      <th>2000-01-03</th>\n",
       "      <td>9.40</td>\n",
       "      <td>7.20</td>\n",
       "      <td>9.50</td>\n",
       "    </tr>\n",
       "    <tr>\n",
       "      <th>2000-01-04</th>\n",
       "      <td>7.00</td>\n",
       "      <td>4.40</td>\n",
       "      <td>11.00</td>\n",
       "    </tr>\n",
       "    <tr>\n",
       "      <th>2000-01-05</th>\n",
       "      <td>6.40</td>\n",
       "      <td>1.90</td>\n",
       "      <td>10.80</td>\n",
       "    </tr>\n",
       "    <tr>\n",
       "      <th>...</th>\n",
       "      <td>...</td>\n",
       "      <td>...</td>\n",
       "      <td>...</td>\n",
       "    </tr>\n",
       "    <tr>\n",
       "      <th>2020-12-27</th>\n",
       "      <td>7.50</td>\n",
       "      <td>7.60</td>\n",
       "      <td>7.50</td>\n",
       "    </tr>\n",
       "    <tr>\n",
       "      <th>2020-12-28</th>\n",
       "      <td>1.10</td>\n",
       "      <td>-1.30</td>\n",
       "      <td>3.60</td>\n",
       "    </tr>\n",
       "    <tr>\n",
       "      <th>2020-12-29</th>\n",
       "      <td>2.60</td>\n",
       "      <td>1.10</td>\n",
       "      <td>4.10</td>\n",
       "    </tr>\n",
       "    <tr>\n",
       "      <th>2020-12-30</th>\n",
       "      <td>2.70</td>\n",
       "      <td>-0.10</td>\n",
       "      <td>5.60</td>\n",
       "    </tr>\n",
       "    <tr>\n",
       "      <th>2020-12-31</th>\n",
       "      <td>-0.80</td>\n",
       "      <td>-3.10</td>\n",
       "      <td>1.50</td>\n",
       "    </tr>\n",
       "  </tbody>\n",
       "</table>\n",
       "<p>7671 rows × 3 columns</p>\n",
       "</div>"
      ],
      "text/plain": [
       "            mean_temp  min_temp  max_temp\n",
       "datetime                                 \n",
       "2000-01-01       7.00      4.90     10.80\n",
       "2000-01-02       7.90      5.00     11.50\n",
       "2000-01-03       9.40      7.20      9.50\n",
       "2000-01-04       7.00      4.40     11.00\n",
       "2000-01-05       6.40      1.90     10.80\n",
       "...               ...       ...       ...\n",
       "2020-12-27       7.50      7.60      7.50\n",
       "2020-12-28       1.10     -1.30      3.60\n",
       "2020-12-29       2.60      1.10      4.10\n",
       "2020-12-30       2.70     -0.10      5.60\n",
       "2020-12-31      -0.80     -3.10      1.50\n",
       "\n",
       "[7671 rows x 3 columns]"
      ]
     },
     "execution_count": 60,
     "metadata": {},
     "output_type": "execute_result"
    }
   ],
   "source": [
    "temp_cols = ['mean_temp','min_temp','max_temp']\n",
    "plot_df2 = temp.loc['2000':'2020',temp_cols]\n",
    "plot_df2\n",
    "#.loc['2000':'2020',temp_cols]"
   ]
  },
  {
   "cell_type": "code",
   "execution_count": 64,
   "id": "52b391cc",
   "metadata": {},
   "outputs": [
    {
     "data": {
      "image/png": "[encoded data removed]",
      "text/plain": [
       "<Figure size 1200x400 with 1 Axes>"
      ]
     },
     "metadata": {},
     "output_type": "display_data"
    }
   ],
   "source": [
    "## Make the fig and axis first\n",
    "## creating our tick locators and formatters\n",
    "## for minor month ticks\n",
    "# create the locator to place ticks every year.\n",
    "loc_1year = mdates.YearLocator(1)\n",
    "fmt_year = mdates.DateFormatter(\"%Y\")\n",
    "## for major year ticks\n",
    "loc_year = mdates.YearLocator(5)\n",
    "fmt_year = mdates.DateFormatter(\"%Y\")\n",
    "\n",
    "fig, ax = plt.subplots(figsize=(12,4))\n",
    "\n",
    "\n",
    "# plot the time series with pandas\n",
    "plot_df2.plot(ax=ax,title='Average Temperature',ylabel='Degrees')\n",
    "\n",
    "## customize minor ticks\n",
    "ax.xaxis.set_minor_locator(loc_1year)\n",
    "ax.xaxis.set_minor_formatter(fmt_year)\n",
    "\n",
    "## customize major ticks\n",
    "ax.xaxis.set_major_locator(loc_year)\n",
    "ax.xaxis.set_major_formatter(fmt_year)\n",
    "\n",
    "## Making major/minor gridlines visually distinct\n",
    "ax.grid(which='minor',axis='x',ls=\":\")\n",
    "ax.grid(which='major',axis='x')\n",
    "fig.autofmt_xdate(rotation=90,ha='center')\n",
    "\n",
    "\n",
    "# add vertical line at max_precip_date\n",
    "ax.axvline(x = date_min_temp, \n",
    "          color = 'r', \n",
    "          linestyle = '--',\n",
    "          label = f'Coolest Year,\\n{date_min_temp:%Y %b}')\n",
    "\n",
    "#add legend\n",
    "\n",
    "ax.legend(loc = 'lower right',\n",
    "          bbox_to_anchor = (1.0, -.75),\n",
    "          prop = {'size': 11});\n",
    "\n",
    "\n",
    "\n"
   ]
  },
  {
   "cell_type": "code",
   "execution_count": null,
   "id": "8675a939",
   "metadata": {},
   "outputs": [],
   "source": []
  },
  {
   "cell_type": "code",
   "execution_count": null,
   "id": "220643c1",
   "metadata": {},
   "outputs": [],
   "source": []
  }
 ],
 "metadata": {
  "kernelspec": {
   "display_name": "Python (dojo-env)",
   "language": "python",
   "name": "dojo-env"
  },
  "language_info": {
   "codemirror_mode": {
    "name": "ipython",
    "version": 3
   },
   "file_extension": ".py",
   "mimetype": "text/x-python",
   "name": "python",
   "nbconvert_exporter": "python",
   "pygments_lexer": "ipython3",
   "version": "3.9.15"
  },
  "toc": {
   "base_numbering": "",
   "nav_menu": {},
   "number_sections": false,
   "sideBar": false,
   "skip_h1_title": false,
   "title_cell": "Table of Contents",
   "title_sidebar": "Contents",
   "toc_cell": false,
   "toc_position": {},
   "toc_section_display": false,
   "toc_window_display": false
  }
 },
 "nbformat": 4,
 "nbformat_minor": 5
}
